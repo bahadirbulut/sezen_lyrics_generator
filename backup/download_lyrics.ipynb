{
  "nbformat": 4,
  "nbformat_minor": 0,
  "metadata": {
    "colab": {
      "name": "Untitled1.ipynb",
      "provenance": [],
      "collapsed_sections": []
    },
    "kernelspec": {
      "name": "python3",
      "display_name": "Python 3"
    }
  },
  "cells": [
    {
      "cell_type": "code",
      "metadata": {
        "id": "Z4H85URX2eIw",
        "colab_type": "code",
        "colab": {}
      },
      "source": [
        "from bs4 import BeautifulSoup\n",
        "import requests"
      ],
      "execution_count": 0,
      "outputs": []
    },
    {
      "cell_type": "code",
      "metadata": {
        "id": "z9xsDslP5Lzj",
        "colab_type": "code",
        "colab": {}
      },
      "source": [
        "pages = [1,2,3,4,5,6,7,8]\n",
        "\n",
        "links = []\n",
        "\n",
        "for page in pages:\n",
        "  url = 'https://sarki.alternatifim.com/sarkici/sezen-aksu/sayfa-{page}'.format(page=page)\n",
        "  root_url = 'https://sarki.alternatifim.com/'\n",
        "\n",
        "  response = requests.get(url)\n",
        "  data = response.text\n",
        "\n",
        "  soup = BeautifulSoup(data, 'html.parser')\n",
        "\n",
        "  for link in soup.findAll('a'):\n",
        "    if link.get('href').startswith('/sarkici/'):\n",
        "      links.append(root_url + str(link.get('href')))"
      ],
      "execution_count": 0,
      "outputs": []
    },
    {
      "cell_type": "code",
      "metadata": {
        "id": "WE7kdym56Wn6",
        "colab_type": "code",
        "colab": {}
      },
      "source": [
        "# lyrics_url = links[0]\n",
        "\n",
        "with open('sezen_lyrics.txt', 'w') as file:\n",
        "  for lyrics_url in links:\n",
        "    data = requests.get(lyrics_url).text\n",
        "    soup = BeautifulSoup(data, 'html.parser')\n",
        "\n",
        "    paragraph = soup.find('div', attrs={\"class\":\"sarkisozu\"}).text.split(\"\\n\")\n",
        "\n",
        "    for line in paragraph:\n",
        "      if line.startswith('eval(') or line.startswith('exslot') or \\\n",
        "      line.startswith('[') or line == '' or line == '\\r' or line.startswith('var ') or \\\n",
        "      line.startswith('comments') or line.startswith('comments') or 'function' in line or \\\n",
        "      'var d' in line or 's.src' in line or '(d.' in line or '}' in line or '=' in line:\n",
        "        continue\n",
        "      else:\n",
        "        file.write(line.replace('       x2', '')+'\\n')"
      ],
      "execution_count": 0,
      "outputs": []
    },
    {
      "cell_type": "code",
      "metadata": {
        "id": "qeVBCI4uL5KN",
        "colab_type": "code",
        "colab": {}
      },
      "source": [
        ""
      ],
      "execution_count": 0,
      "outputs": []
    }
  ]
}