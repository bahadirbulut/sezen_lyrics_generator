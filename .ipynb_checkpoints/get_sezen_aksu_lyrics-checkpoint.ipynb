{
 "cells": [
  {
   "cell_type": "code",
   "execution_count": 2,
   "metadata": {
    "colab": {},
    "colab_type": "code",
    "id": "Z4H85URX2eIw"
   },
   "outputs": [],
   "source": [
    "from bs4 import BeautifulSoup\n",
    "import requests"
   ]
  },
  {
   "cell_type": "code",
   "execution_count": 4,
   "metadata": {
    "colab": {},
    "colab_type": "code",
    "id": "z9xsDslP5Lzj"
   },
   "outputs": [],
   "source": [
    "pages = [1,2,3,4,5,6,7,8]\n",
    "\n",
    "links = []\n",
    "\n",
    "for page in pages:\n",
    "    url = 'https://sarki.alternatifim.com/sarkici/sezen-aksu/sayfa-{page}'.format(page=page)\n",
    "    root_url = 'https://sarki.alternatifim.com/'\n",
    "\n",
    "    response = requests.get(url)\n",
    "    data = response.text\n",
    "\n",
    "    soup = BeautifulSoup(data, 'html.parser')\n",
    "\n",
    "    for link in soup.findAll('a'):\n",
    "        if link.get('href').startswith('/sarkici/'):\n",
    "            links.append(root_url + str(link.get('href')))"
   ]
  },
  {
   "cell_type": "code",
   "execution_count": 5,
   "metadata": {},
   "outputs": [
    {
     "name": "stdout",
     "output_type": "stream",
     "text": [
      "Number of songs: 354\n"
     ]
    }
   ],
   "source": [
    "print(\"Number of songs: {n}\".format(n=len(links)))"
   ]
  },
  {
   "cell_type": "code",
   "execution_count": 0,
   "metadata": {
    "colab": {},
    "colab_type": "code",
    "id": "WE7kdym56Wn6"
   },
   "outputs": [],
   "source": [
    "with open('sezen_lyrics.txt', 'w') as file:\n",
    "    for lyrics_url in links:\n",
    "    data = requests.get(lyrics_url).text\n",
    "    soup = BeautifulSoup(data, 'html.parser')\n",
    "\n",
    "    paragraph = soup.find('div', attrs={\"class\":\"sarkisozu\"}).text.split(\"\\n\")\n",
    "\n",
    "    for line in paragraph:\n",
    "        line = line.lower()\n",
    "          if line.startswith('eval(') or line.startswith('exslot') or line.startswith('1945') or \\\n",
    "            line.startswith('[') or line == '' or line == '\\r' or line.startswith('var ') or \\\n",
    "            line.startswith('söz:') or line.startswith('müzik:') or '😂' in line or \\\n",
    "            line.startswith('söz :') or line.startswith('müzik :') or line.startswith('söz-müzik') or \\\n",
    "            line.startswith('söz-müzik') or line.startswith('şiir :') or  line.startswith('söz - müzik:') or \\\n",
    "            line.startswith('comments') or line.startswith('comments') or 'function' in line or \\\n",
    "            'var d' in line or 's.src' in line or '(d.' in line or '}' in line or '=' in line:\n",
    "            continue\n",
    "    else:\n",
    "        line = line.replace('       x2', '')\n",
    "        line = line.replace(' (x2)', '')\n",
    "        line = line.replace(' (x3)', '')\n",
    "        line = line.replace('    x2', '')\n",
    "        line = line.replace('    x3', '')\n",
    "        line = line.replace('    x4', '')\n",
    "        line = line.replace(' x2', '')\n",
    "        line = line.replace(' x3', '')\n",
    "        line = line.replace(' x4', '')\n",
    "        line = line.replace(' (x4)', '')\n",
    "        line = line.replace('(x2)', '')\n",
    "        line = line.replace('     x2', '')\n",
    "        file.write(line+'\\n')"
   ]
  },
  {
   "cell_type": "code",
   "execution_count": 0,
   "metadata": {
    "colab": {},
    "colab_type": "code",
    "id": "LhJUO7dPSzZ6"
   },
   "outputs": [],
   "source": []
  }
 ],
 "metadata": {
  "colab": {
   "collapsed_sections": [],
   "name": "get_sezen_aksu_lyrics.ipynb",
   "provenance": []
  },
  "kernelspec": {
   "display_name": "Python 3",
   "language": "python",
   "name": "python3"
  },
  "language_info": {
   "codemirror_mode": {
    "name": "ipython",
    "version": 3
   },
   "file_extension": ".py",
   "mimetype": "text/x-python",
   "name": "python",
   "nbconvert_exporter": "python",
   "pygments_lexer": "ipython3",
   "version": "3.7.3"
  }
 },
 "nbformat": 4,
 "nbformat_minor": 1
}
